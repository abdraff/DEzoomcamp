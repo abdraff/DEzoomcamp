{
 "cells": [
  {
   "cell_type": "code",
   "execution_count": 1,
   "id": "60248ecd-12a3-40dd-8548-c2ebd91d69ca",
   "metadata": {},
   "outputs": [
    {
     "name": "stderr",
     "output_type": "stream",
     "text": [
      "25/03/09 22:15:54 WARN Utils: Your hostname, Abduls-MacBook-Pro.local resolves to a loopback address: 127.0.0.1; using 192.168.18.9 instead (on interface en0)\n",
      "25/03/09 22:15:54 WARN Utils: Set SPARK_LOCAL_IP if you need to bind to another address\n",
      "Setting default log level to \"WARN\".\n",
      "To adjust logging level use sc.setLogLevel(newLevel). For SparkR, use setLogLevel(newLevel).\n",
      "25/03/09 22:15:55 WARN NativeCodeLoader: Unable to load native-hadoop library for your platform... using builtin-java classes where applicable\n"
     ]
    },
    {
     "data": {
      "text/plain": [
       "'3.5.5'"
      ]
     },
     "execution_count": 1,
     "metadata": {},
     "output_type": "execute_result"
    }
   ],
   "source": [
    "from pyspark.sql import SparkSession\n",
    "\n",
    "# Create a local Spark session\n",
    "spark = SparkSession.builder \\\n",
    "    .appName(\"Homework\") \\\n",
    "    .master(\"local[*]\") \\\n",
    "    .getOrCreate()\n",
    "\n",
    "# Check Spark version\n",
    "spark.version"
   ]
  },
  {
   "cell_type": "code",
   "execution_count": 2,
   "id": "058c86b9-1ed0-483d-8676-d845eb9a44eb",
   "metadata": {},
   "outputs": [
    {
     "name": "stdout",
     "output_type": "stream",
     "text": [
      "--2025-03-09 22:16:02--  https://d37ci6vzurychx.cloudfront.net/trip-data/yellow_tripdata_2024-10.parquet\n",
      "Resolving d37ci6vzurychx.cloudfront.net (d37ci6vzurychx.cloudfront.net)... 3.164.82.112, 3.164.82.160, 3.164.82.197, ...\n",
      "Connecting to d37ci6vzurychx.cloudfront.net (d37ci6vzurychx.cloudfront.net)|3.164.82.112|:443... connected.\n",
      "HTTP request sent, awaiting response... 200 OK\n",
      "Length: 64346071 (61M) [binary/octet-stream]\n",
      "Saving to: ‘yellow_tripdata_2024-10.parquet’\n",
      "\n",
      "yellow_tripdata_202 100%[===================>]  61.36M   361KB/s    in 3m 0s   \n",
      "\n",
      "2025-03-09 22:19:03 (350 KB/s) - ‘yellow_tripdata_2024-10.parquet’ saved [64346071/64346071]\n",
      "\n"
     ]
    }
   ],
   "source": [
    "!wget https://d37ci6vzurychx.cloudfront.net/trip-data/yellow_tripdata_2024-10.parquet"
   ]
  },
  {
   "cell_type": "code",
   "execution_count": 3,
   "id": "0ac06ada-3643-4f02-a865-c496e069db12",
   "metadata": {},
   "outputs": [
    {
     "name": "stderr",
     "output_type": "stream",
     "text": [
      "                                                                                "
     ]
    }
   ],
   "source": [
    "# Read the parquet file\n",
    "df = spark.read.parquet(\"yellow_tripdata_2024-10.parquet\")\n",
    "\n",
    "# Repartition to 4 partitions\n",
    "df_repartitioned = df.repartition(4)\n",
    "\n",
    "# Save as parquet\n",
    "df_repartitioned.write.mode(\"overwrite\").parquet(\"yellow_repartitioned.parquet\")"
   ]
  },
  {
   "cell_type": "code",
   "execution_count": 4,
   "id": "79250bda-7f9c-4d90-a872-1e1fc85ff8a8",
   "metadata": {},
   "outputs": [
    {
     "name": "stdout",
     "output_type": "stream",
     "text": [
      "Number of trips on October 15th: 128893\n"
     ]
    }
   ],
   "source": [
    "from pyspark.sql.functions import to_date, col\n",
    "\n",
    "# Convert pickup datetime to date format\n",
    "df_with_date = df.withColumn(\"pickup_date\", to_date(\"tpep_pickup_datetime\"))\n",
    "\n",
    "# Filter for October 15th\n",
    "oct_15_trips = df_with_date.filter(col(\"pickup_date\") == \"2024-10-15\")\n",
    "\n",
    "# Count the records\n",
    "count = oct_15_trips.count()\n",
    "print(f\"Number of trips on October 15th: {count}\")"
   ]
  },
  {
   "cell_type": "code",
   "execution_count": 8,
   "id": "564a73ba-3cda-47fc-a168-69398b281bc6",
   "metadata": {},
   "outputs": [
    {
     "name": "stdout",
     "output_type": "stream",
     "text": [
      "Prepended http:// to 'wget'\n",
      "--2025-03-09 22:32:31--  http://wget/\n",
      "failed: nodename nor servname provided, or not known.\n",
      "wget: unable to resolve host address ‘wget’\n",
      "--2025-03-09 22:32:31--  https://d37ci6vzurychx.cloudfront.net/misc/taxi_zone_lookup.csv\n",
      "3.164.82.160, 3.164.82.197, 3.164.82.40, ...ci6vzurychx.cloudfront.net)... \n",
      "Connecting to d37ci6vzurychx.cloudfront.net (d37ci6vzurychx.cloudfront.net)|3.164.82.160|:443... connected.\n",
      "HTTP request sent, awaiting response... 200 OK\n",
      "Length: 12331 (12K) [text/csv]\n",
      "Saving to: ‘taxi_zone_lookup.csv’\n",
      "\n",
      "taxi_zone_lookup.cs 100%[===================>]  12.04K  --.-KB/s    in 0s      \n",
      "\n",
      "2025-03-09 22:32:32 (980 MB/s) - ‘taxi_zone_lookup.csv’ saved [12331/12331]\n",
      "\n",
      "FINISHED --2025-03-09 22:32:32--\n",
      "Total wall clock time: 0.8s\n",
      "Downloaded: 1 files, 12K in 0s (980 MB/s)\n"
     ]
    }
   ],
   "source": [
    "!wget wget https://d37ci6vzurychx.cloudfront.net/misc/taxi_zone_lookup.csv"
   ]
  },
  {
   "cell_type": "code",
   "execution_count": 10,
   "id": "f920fa08-3271-4e0b-93fa-f1e9a825a313",
   "metadata": {},
   "outputs": [
    {
     "name": "stdout",
     "output_type": "stream",
     "text": [
      "+--------------------+------------+\n",
      "|                Zone|pickup_count|\n",
      "+--------------------+------------+\n",
      "|Governor's Island...|           1|\n",
      "|       Rikers Island|           2|\n",
      "|       Arden Heights|           2|\n",
      "|         Jamaica Bay|           3|\n",
      "| Green-Wood Cemetery|           3|\n",
      "|Charleston/Totten...|           4|\n",
      "|   Rossville/Woodrow|           4|\n",
      "|       West Brighton|           4|\n",
      "|Eltingville/Annad...|           4|\n",
      "|       Port Richmond|           4|\n",
      "|         Great Kills|           6|\n",
      "|        Crotona Park|           6|\n",
      "|Heartland Village...|           7|\n",
      "|     Mariners Harbor|           7|\n",
      "|Saint George/New ...|           9|\n",
      "|             Oakwood|           9|\n",
      "|       Broad Channel|          10|\n",
      "|New Dorp/Midland ...|          10|\n",
      "|         Westerleigh|          12|\n",
      "|     Pelham Bay Park|          12|\n",
      "+--------------------+------------+\n",
      "only showing top 20 rows\n",
      "\n"
     ]
    }
   ],
   "source": [
    "# Load zone lookup data\n",
    "zones_df = spark.read.csv(\"taxi_zone_lookup.csv\", header=True)\n",
    "zones_df.createOrReplaceTempView(\"zones\")\n",
    "\n",
    "# Create temp view for taxi data\n",
    "df.createOrReplaceTempView(\"trips\")\n",
    "\n",
    "# SQL query to find least frequent pickup zone\n",
    "query = \"\"\"\n",
    "SELECT z.Zone, COUNT(*) AS pickup_count\n",
    "FROM trips t\n",
    "JOIN zones z ON t.PULocationID = z.LocationID\n",
    "GROUP BY z.Zone\n",
    "ORDER BY pickup_count ASC\n",
    "\"\"\"\n",
    "\n",
    "least_frequent = spark.sql(query)\n",
    "least_frequent.show()"
   ]
  }
 ],
 "metadata": {
  "kernelspec": {
   "display_name": "Python 3 (ipykernel)",
   "language": "python",
   "name": "python3"
  },
  "language_info": {
   "codemirror_mode": {
    "name": "ipython",
    "version": 3
   },
   "file_extension": ".py",
   "mimetype": "text/x-python",
   "name": "python",
   "nbconvert_exporter": "python",
   "pygments_lexer": "ipython3",
   "version": "3.9.18"
  }
 },
 "nbformat": 4,
 "nbformat_minor": 5
}
